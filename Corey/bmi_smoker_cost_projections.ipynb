{
 "cells": [
  {
   "cell_type": "code",
   "execution_count": 94,
   "metadata": {},
   "outputs": [],
   "source": [
    "# Import the modules\n",
    "# Import required libraries\n",
    "import numpy as np\n",
    "import pandas as pd\n",
    "import hvplot.pandas\n",
    "from pathlib import Path\n",
    "from sklearn.linear_model import LinearRegression\n",
    "\n",
    "\n",
    "import psycopg2\n",
    "import sqlalchemy\n",
    "from sqlalchemy.ext.automap import automap_base\n",
    "from sqlalchemy.orm import Session\n",
    "from sqlalchemy import create_engine, func\n",
    "\n",
    "# Import relevant metrics from scikit-learn: score, r2, mse, rmse, std\n",
    "from sklearn.metrics import mean_squared_error, r2_score\n",
    "from sklearn.model_selection import train_test_split"
   ]
  },
  {
   "cell_type": "markdown",
   "metadata": {},
   "source": [
    "Read in the data from our RDBMS or our relational database"
   ]
  },
  {
   "cell_type": "code",
   "execution_count": 95,
   "metadata": {},
   "outputs": [],
   "source": [
    "#for using a dbms system\n",
    "Base = automap_base()\n",
    "\n",
    "connection = psycopg2.connect(user=\"postgres\", password=\"Corey1234\",\n",
    "                                  host=\"127.0.0.1\", port=\"5432\", database=\"Project_four\")\n",
    "cursor = connection.cursor()\n",
    "\n",
    "    # Query all passengers\n",
    "cost_data = \"\"\"select inscosts.age, inscosts.bmi, inscosts.children, inscosts.charges\n",
    "                from InsCosts\n",
    "                    Where inscosts.smoker = 1\n",
    "                        group by inscosts.age, inscosts.bmi,inscosts.children,inscosts.charges\n",
    "                    Order by inscosts.age ASC;\n",
    "\"\"\"\n",
    "cursor.execute(cost_data)\n",
    "results = cursor.fetchall()\n"
   ]
  },
  {
   "cell_type": "code",
   "execution_count": 96,
   "metadata": {},
   "outputs": [],
   "source": [
    "#age\tbmi\tchildren\tsmoker\tcharges\n",
    "ages = []\n",
    "bmi = []\n",
    "children = []\n",
    "charges = []\n",
    "#within the return set get our lists and then create a dataframe\n",
    "for x in results:\n",
    "        # go through the returned cursor and create a pandas dataframe out of it\n",
    "        #     print(x[0])\n",
    "        # get the return cursor build lists for our dictionary\n",
    "        #need to be all ints for a regression\n",
    "        ages.append(x[0])\n",
    "        bmi.append(int(x[1]))\n",
    "        children.append(x[2])\n",
    "        charges.append(int(x[3]))"
   ]
  },
  {
   "cell_type": "markdown",
   "metadata": {},
   "source": [
    "Using the DBMS system to get information\n",
    "Smoker information first"
   ]
  },
  {
   "cell_type": "code",
   "execution_count": 97,
   "metadata": {},
   "outputs": [
    {
     "data": {
      "text/html": [
       "<div>\n",
       "<style scoped>\n",
       "    .dataframe tbody tr th:only-of-type {\n",
       "        vertical-align: middle;\n",
       "    }\n",
       "\n",
       "    .dataframe tbody tr th {\n",
       "        vertical-align: top;\n",
       "    }\n",
       "\n",
       "    .dataframe thead th {\n",
       "        text-align: right;\n",
       "    }\n",
       "</style>\n",
       "<table border=\"1\" class=\"dataframe\">\n",
       "  <thead>\n",
       "    <tr style=\"text-align: right;\">\n",
       "      <th></th>\n",
       "      <th>age</th>\n",
       "      <th>bmi</th>\n",
       "      <th>children</th>\n",
       "      <th>charges</th>\n",
       "    </tr>\n",
       "  </thead>\n",
       "  <tbody>\n",
       "    <tr>\n",
       "      <th>0</th>\n",
       "      <td>18</td>\n",
       "      <td>17</td>\n",
       "      <td>2</td>\n",
       "      <td>12829.0</td>\n",
       "    </tr>\n",
       "    <tr>\n",
       "      <th>1</th>\n",
       "      <td>18</td>\n",
       "      <td>21</td>\n",
       "      <td>0</td>\n",
       "      <td>13747.0</td>\n",
       "    </tr>\n",
       "    <tr>\n",
       "      <th>2</th>\n",
       "      <td>18</td>\n",
       "      <td>21</td>\n",
       "      <td>0</td>\n",
       "      <td>14283.0</td>\n",
       "    </tr>\n",
       "    <tr>\n",
       "      <th>3</th>\n",
       "      <td>18</td>\n",
       "      <td>25</td>\n",
       "      <td>0</td>\n",
       "      <td>15518.0</td>\n",
       "    </tr>\n",
       "    <tr>\n",
       "      <th>4</th>\n",
       "      <td>18</td>\n",
       "      <td>27</td>\n",
       "      <td>3</td>\n",
       "      <td>18223.0</td>\n",
       "    </tr>\n",
       "  </tbody>\n",
       "</table>\n",
       "</div>"
      ],
      "text/plain": [
       "   age  bmi  children  charges\n",
       "0   18   17         2  12829.0\n",
       "1   18   21         0  13747.0\n",
       "2   18   21         0  14283.0\n",
       "3   18   25         0  15518.0\n",
       "4   18   27         3  18223.0"
      ]
     },
     "execution_count": 97,
     "metadata": {},
     "output_type": "execute_result"
    }
   ],
   "source": [
    "smoker_dc = {}\n",
    "# create the data frame based on our lists \n",
    "convert_charges = np.array(charges, dtype=float)\n",
    "smoker_dc = {\"age\": ages, \"bmi\":bmi,\"children\":children, \"charges\": convert_charges}\n",
    "smoker_df = pd.DataFrame(smoker_dc)\n",
    "smoker_df.head()\n"
   ]
  },
  {
   "cell_type": "code",
   "execution_count": 98,
   "metadata": {},
   "outputs": [],
   "source": [
    "df = smoker_df.copy()\n",
    "y = df[\"charges\"]\n",
    "X = df.drop(columns=\"charges\")"
   ]
  },
  {
   "cell_type": "code",
   "execution_count": 99,
   "metadata": {},
   "outputs": [
    {
     "data": {
      "text/plain": [
       "(205, 3)"
      ]
     },
     "execution_count": 99,
     "metadata": {},
     "output_type": "execute_result"
    }
   ],
   "source": [
    "X_train, X_test, y_train, y_test = train_test_split(X, \n",
    "                                                    y, \n",
    "                                                    random_state=1)\n",
    "X_train.shape"
   ]
  },
  {
   "cell_type": "markdown",
   "metadata": {},
   "source": [
    "Next put the data into our machine learning model"
   ]
  },
  {
   "cell_type": "code",
   "execution_count": 100,
   "metadata": {},
   "outputs": [],
   "source": [
    "sum_cost_data = \"\"\"select inscosts.bmi, (sum(inscosts.charges) ) as sum_charges\n",
    "                from InsCosts\n",
    "                    Where inscosts.smoker = 1\n",
    "                        group by inscosts.bmi\n",
    "                    Order by inscosts.bmi ASC;\"\"\"\n",
    "cursor.execute(sum_cost_data)\n",
    "results = cursor.fetchall()"
   ]
  },
  {
   "cell_type": "code",
   "execution_count": 101,
   "metadata": {},
   "outputs": [],
   "source": [
    "#age\tbmi\tchildren\tsmoker\tcharges\n",
    "bmi = []\n",
    "charges = []\n",
    "#within the return set get our lists and then create a dataframe\n",
    "for x in results:\n",
    "        # go through the returned cursor and create a pandas dataframe out of it\n",
    "        #     print(x[0])\n",
    "        # get the return cursor build lists for our dictionary\n",
    "        bmi.append(x[0])\n",
    "        charges.append(x[1])"
   ]
  },
  {
   "cell_type": "code",
   "execution_count": 107,
   "metadata": {},
   "outputs": [],
   "source": [
    "bmi_dc = {}\n",
    "# create the data frame based on our lists \n",
    "convert_charges = np.array(charges,dtype=float)\n",
    "\n",
    "#bmi_dc = {\"bmi\": bmi_measure, \"charges\": convert_charges}\n",
    "#bmi_df = pd.DataFrame(bmi_dc)\n",
    "\n",
    "#bmi_df.head()"
   ]
  },
  {
   "cell_type": "code",
   "execution_count": 109,
   "metadata": {},
   "outputs": [],
   "source": [
    "bmi_score = np.array(bmi,dtype=float)\n"
   ]
  },
  {
   "cell_type": "code",
   "execution_count": 110,
   "metadata": {},
   "outputs": [
    {
     "data": {
      "text/html": [
       "<div>\n",
       "<style scoped>\n",
       "    .dataframe tbody tr th:only-of-type {\n",
       "        vertical-align: middle;\n",
       "    }\n",
       "\n",
       "    .dataframe tbody tr th {\n",
       "        vertical-align: top;\n",
       "    }\n",
       "\n",
       "    .dataframe thead th {\n",
       "        text-align: right;\n",
       "    }\n",
       "</style>\n",
       "<table border=\"1\" class=\"dataframe\">\n",
       "  <thead>\n",
       "    <tr style=\"text-align: right;\">\n",
       "      <th></th>\n",
       "      <th>bmi</th>\n",
       "      <th>charges</th>\n",
       "    </tr>\n",
       "  </thead>\n",
       "  <tbody>\n",
       "    <tr>\n",
       "      <th>0</th>\n",
       "      <td>17.195</td>\n",
       "      <td>14455.64405</td>\n",
       "    </tr>\n",
       "    <tr>\n",
       "      <th>1</th>\n",
       "      <td>17.290</td>\n",
       "      <td>12829.45510</td>\n",
       "    </tr>\n",
       "    <tr>\n",
       "      <th>2</th>\n",
       "      <td>17.765</td>\n",
       "      <td>32734.18630</td>\n",
       "    </tr>\n",
       "    <tr>\n",
       "      <th>3</th>\n",
       "      <td>17.955</td>\n",
       "      <td>15006.57945</td>\n",
       "    </tr>\n",
       "    <tr>\n",
       "      <th>4</th>\n",
       "      <td>18.300</td>\n",
       "      <td>19023.26000</td>\n",
       "    </tr>\n",
       "  </tbody>\n",
       "</table>\n",
       "</div>"
      ],
      "text/plain": [
       "      bmi      charges\n",
       "0  17.195  14455.64405\n",
       "1  17.290  12829.45510\n",
       "2  17.765  32734.18630\n",
       "3  17.955  15006.57945\n",
       "4  18.300  19023.26000"
      ]
     },
     "execution_count": 110,
     "metadata": {},
     "output_type": "execute_result"
    }
   ],
   "source": [
    "bmi_dc = {\"bmi\": bmi_score, \"charges\": convert_charges}\n",
    "bmi_df = pd.DataFrame(bmi_dc)\n",
    "\n",
    "bmi_df.head()"
   ]
  },
  {
   "cell_type": "code",
   "execution_count": 111,
   "metadata": {},
   "outputs": [
    {
     "data": {
      "text/html": [
       "<style>#sk-container-id-8 {color: black;background-color: white;}#sk-container-id-8 pre{padding: 0;}#sk-container-id-8 div.sk-toggleable {background-color: white;}#sk-container-id-8 label.sk-toggleable__label {cursor: pointer;display: block;width: 100%;margin-bottom: 0;padding: 0.3em;box-sizing: border-box;text-align: center;}#sk-container-id-8 label.sk-toggleable__label-arrow:before {content: \"▸\";float: left;margin-right: 0.25em;color: #696969;}#sk-container-id-8 label.sk-toggleable__label-arrow:hover:before {color: black;}#sk-container-id-8 div.sk-estimator:hover label.sk-toggleable__label-arrow:before {color: black;}#sk-container-id-8 div.sk-toggleable__content {max-height: 0;max-width: 0;overflow: hidden;text-align: left;background-color: #f0f8ff;}#sk-container-id-8 div.sk-toggleable__content pre {margin: 0.2em;color: black;border-radius: 0.25em;background-color: #f0f8ff;}#sk-container-id-8 input.sk-toggleable__control:checked~div.sk-toggleable__content {max-height: 200px;max-width: 100%;overflow: auto;}#sk-container-id-8 input.sk-toggleable__control:checked~label.sk-toggleable__label-arrow:before {content: \"▾\";}#sk-container-id-8 div.sk-estimator input.sk-toggleable__control:checked~label.sk-toggleable__label {background-color: #d4ebff;}#sk-container-id-8 div.sk-label input.sk-toggleable__control:checked~label.sk-toggleable__label {background-color: #d4ebff;}#sk-container-id-8 input.sk-hidden--visually {border: 0;clip: rect(1px 1px 1px 1px);clip: rect(1px, 1px, 1px, 1px);height: 1px;margin: -1px;overflow: hidden;padding: 0;position: absolute;width: 1px;}#sk-container-id-8 div.sk-estimator {font-family: monospace;background-color: #f0f8ff;border: 1px dotted black;border-radius: 0.25em;box-sizing: border-box;margin-bottom: 0.5em;}#sk-container-id-8 div.sk-estimator:hover {background-color: #d4ebff;}#sk-container-id-8 div.sk-parallel-item::after {content: \"\";width: 100%;border-bottom: 1px solid gray;flex-grow: 1;}#sk-container-id-8 div.sk-label:hover label.sk-toggleable__label {background-color: #d4ebff;}#sk-container-id-8 div.sk-serial::before {content: \"\";position: absolute;border-left: 1px solid gray;box-sizing: border-box;top: 0;bottom: 0;left: 50%;z-index: 0;}#sk-container-id-8 div.sk-serial {display: flex;flex-direction: column;align-items: center;background-color: white;padding-right: 0.2em;padding-left: 0.2em;position: relative;}#sk-container-id-8 div.sk-item {position: relative;z-index: 1;}#sk-container-id-8 div.sk-parallel {display: flex;align-items: stretch;justify-content: center;background-color: white;position: relative;}#sk-container-id-8 div.sk-item::before, #sk-container-id-8 div.sk-parallel-item::before {content: \"\";position: absolute;border-left: 1px solid gray;box-sizing: border-box;top: 0;bottom: 0;left: 50%;z-index: -1;}#sk-container-id-8 div.sk-parallel-item {display: flex;flex-direction: column;z-index: 1;position: relative;background-color: white;}#sk-container-id-8 div.sk-parallel-item:first-child::after {align-self: flex-end;width: 50%;}#sk-container-id-8 div.sk-parallel-item:last-child::after {align-self: flex-start;width: 50%;}#sk-container-id-8 div.sk-parallel-item:only-child::after {width: 0;}#sk-container-id-8 div.sk-dashed-wrapped {border: 1px dashed gray;margin: 0 0.4em 0.5em 0.4em;box-sizing: border-box;padding-bottom: 0.4em;background-color: white;}#sk-container-id-8 div.sk-label label {font-family: monospace;font-weight: bold;display: inline-block;line-height: 1.2em;}#sk-container-id-8 div.sk-label-container {text-align: center;}#sk-container-id-8 div.sk-container {/* jupyter's `normalize.less` sets `[hidden] { display: none; }` but bootstrap.min.css set `[hidden] { display: none !important; }` so we also need the `!important` here to be able to override the default hidden behavior on the sphinx rendered scikit-learn.org. See: https://github.com/scikit-learn/scikit-learn/issues/21755 */display: inline-block !important;position: relative;}#sk-container-id-8 div.sk-text-repr-fallback {display: none;}</style><div id=\"sk-container-id-8\" class=\"sk-top-container\"><div class=\"sk-text-repr-fallback\"><pre>SVC(kernel=&#x27;linear&#x27;)</pre><b>In a Jupyter environment, please rerun this cell to show the HTML representation or trust the notebook. <br />On GitHub, the HTML representation is unable to render, please try loading this page with nbviewer.org.</b></div><div class=\"sk-container\" hidden><div class=\"sk-item\"><div class=\"sk-estimator sk-toggleable\"><input class=\"sk-toggleable__control sk-hidden--visually\" id=\"sk-estimator-id-8\" type=\"checkbox\" checked><label for=\"sk-estimator-id-8\" class=\"sk-toggleable__label sk-toggleable__label-arrow\">SVC</label><div class=\"sk-toggleable__content\"><pre>SVC(kernel=&#x27;linear&#x27;)</pre></div></div></div></div></div>"
      ],
      "text/plain": [
       "SVC(kernel='linear')"
      ]
     },
     "execution_count": 111,
     "metadata": {},
     "output_type": "execute_result"
    }
   ],
   "source": [
    "# Support vector machine linear classifier\n",
    "from sklearn.svm import SVC \n",
    "model = SVC(kernel='linear')\n",
    "model.fit(X_train, y_train)"
   ]
  },
  {
   "cell_type": "markdown",
   "metadata": {},
   "source": [
    "# Model Accuracy\n"
   ]
  },
  {
   "cell_type": "code",
   "execution_count": 112,
   "metadata": {},
   "outputs": [
    {
     "name": "stdout",
     "output_type": "stream",
     "text": [
      "Test Acc: 0.000\n"
     ]
    }
   ],
   "source": [
    "#X_test\n",
    "print('Test Acc: %.3f' % model.score(X_test, y_test))"
   ]
  },
  {
   "cell_type": "markdown",
   "metadata": {},
   "source": [
    "This model is unaccpetable and should not be used other than showing what does not work"
   ]
  },
  {
   "cell_type": "markdown",
   "metadata": {},
   "source": [
    "Using the regression prediction model let us further examine this dataset"
   ]
  },
  {
   "cell_type": "markdown",
   "metadata": {},
   "source": [
    "Use this data to build our X and y formula"
   ]
  },
  {
   "cell_type": "markdown",
   "metadata": {},
   "source": [
    "We want to visualize the data to see if there is a positive or negative linear progression of the data"
   ]
  },
  {
   "cell_type": "code",
   "execution_count": 121,
   "metadata": {},
   "outputs": [
    {
     "data": {},
     "metadata": {},
     "output_type": "display_data"
    },
    {
     "data": {
      "application/vnd.holoviews_exec.v0+json": "",
      "text/html": [
       "<div id='1807'>\n",
       "  <div class=\"bk-root\" id=\"6bc3cd3c-6124-4ead-87be-ea66ed5f63f0\" data-root-id=\"1807\"></div>\n",
       "</div>\n",
       "<script type=\"application/javascript\">(function(root) {\n",
       "  function embed_document(root) {\n",
       "    var docs_json = {\"3a923220-afe3-45bb-9736-ccf0d7b05e5d\":{\"defs\":[{\"extends\":null,\"module\":null,\"name\":\"ReactiveHTML1\",\"overrides\":[],\"properties\":[]},{\"extends\":null,\"module\":null,\"name\":\"FlexBox1\",\"overrides\":[],\"properties\":[{\"default\":\"flex-start\",\"kind\":null,\"name\":\"align_content\"},{\"default\":\"flex-start\",\"kind\":null,\"name\":\"align_items\"},{\"default\":\"row\",\"kind\":null,\"name\":\"flex_direction\"},{\"default\":\"wrap\",\"kind\":null,\"name\":\"flex_wrap\"},{\"default\":\"flex-start\",\"kind\":null,\"name\":\"justify_content\"}]},{\"extends\":null,\"module\":null,\"name\":\"GridStack1\",\"overrides\":[],\"properties\":[{\"default\":\"warn\",\"kind\":null,\"name\":\"mode\"},{\"default\":null,\"kind\":null,\"name\":\"ncols\"},{\"default\":null,\"kind\":null,\"name\":\"nrows\"},{\"default\":true,\"kind\":null,\"name\":\"allow_resize\"},{\"default\":true,\"kind\":null,\"name\":\"allow_drag\"},{\"default\":[],\"kind\":null,\"name\":\"state\"}]},{\"extends\":null,\"module\":null,\"name\":\"click1\",\"overrides\":[],\"properties\":[{\"default\":\"\",\"kind\":null,\"name\":\"terminal_output\"},{\"default\":\"\",\"kind\":null,\"name\":\"debug_name\"},{\"default\":0,\"kind\":null,\"name\":\"clears\"}]},{\"extends\":null,\"module\":null,\"name\":\"NotificationAreaBase1\",\"overrides\":[],\"properties\":[{\"default\":\"bottom-right\",\"kind\":null,\"name\":\"position\"},{\"default\":0,\"kind\":null,\"name\":\"_clear\"}]},{\"extends\":null,\"module\":null,\"name\":\"NotificationArea1\",\"overrides\":[],\"properties\":[{\"default\":[],\"kind\":null,\"name\":\"notifications\"},{\"default\":\"bottom-right\",\"kind\":null,\"name\":\"position\"},{\"default\":0,\"kind\":null,\"name\":\"_clear\"},{\"default\":[{\"background\":\"#ffc107\",\"icon\":{\"className\":\"fas fa-exclamation-triangle\",\"color\":\"white\",\"tagName\":\"i\"},\"type\":\"warning\"},{\"background\":\"#007bff\",\"icon\":{\"className\":\"fas fa-info-circle\",\"color\":\"white\",\"tagName\":\"i\"},\"type\":\"info\"}],\"kind\":null,\"name\":\"types\"}]},{\"extends\":null,\"module\":null,\"name\":\"Notification\",\"overrides\":[],\"properties\":[{\"default\":null,\"kind\":null,\"name\":\"background\"},{\"default\":3000,\"kind\":null,\"name\":\"duration\"},{\"default\":null,\"kind\":null,\"name\":\"icon\"},{\"default\":\"\",\"kind\":null,\"name\":\"message\"},{\"default\":null,\"kind\":null,\"name\":\"notification_type\"},{\"default\":false,\"kind\":null,\"name\":\"_destroyed\"}]},{\"extends\":null,\"module\":null,\"name\":\"TemplateActions1\",\"overrides\":[],\"properties\":[{\"default\":0,\"kind\":null,\"name\":\"open_modal\"},{\"default\":0,\"kind\":null,\"name\":\"close_modal\"}]},{\"extends\":null,\"module\":null,\"name\":\"MaterialTemplateActions1\",\"overrides\":[],\"properties\":[{\"default\":0,\"kind\":null,\"name\":\"open_modal\"},{\"default\":0,\"kind\":null,\"name\":\"close_modal\"}]}],\"roots\":{\"references\":[{\"attributes\":{\"end\":50,\"reset_end\":50,\"reset_start\":15,\"start\":15,\"tags\":[[[\"bmi\",\"bmi\",null]]]},\"id\":\"1808\",\"type\":\"Range1d\"},{\"attributes\":{\"source\":{\"id\":\"1841\"}},\"id\":\"1848\",\"type\":\"CDSView\"},{\"attributes\":{\"angle\":{\"value\":0.0},\"fill_alpha\":{\"value\":1.0},\"fill_color\":{\"value\":\"#30a2da\"},\"hatch_alpha\":{\"value\":1.0},\"hatch_color\":{\"value\":\"#30a2da\"},\"hatch_scale\":{\"value\":12.0},\"hatch_weight\":{\"value\":1.0},\"line_alpha\":{\"value\":1.0},\"line_cap\":{\"value\":\"butt\"},\"line_color\":{\"value\":\"#30a2da\"},\"line_dash\":{\"value\":[]},\"line_dash_offset\":{\"value\":0},\"line_join\":{\"value\":\"bevel\"},\"line_width\":{\"value\":1},\"marker\":{\"value\":\"circle\"},\"size\":{\"value\":5.477225575051661},\"x\":{\"field\":\"bmi\"},\"y\":{\"field\":\"charges\"}},\"id\":\"1849\",\"type\":\"Scatter\"},{\"attributes\":{\"below\":[{\"id\":\"1820\"}],\"center\":[{\"id\":\"1823\"},{\"id\":\"1827\"}],\"height\":300,\"left\":[{\"id\":\"1824\"}],\"margin\":[5,5,5,5],\"min_border_bottom\":10,\"min_border_left\":10,\"min_border_right\":10,\"min_border_top\":10,\"renderers\":[{\"id\":\"1847\"}],\"sizing_mode\":\"fixed\",\"title\":{\"id\":\"1812\"},\"toolbar\":{\"id\":\"1834\"},\"width\":700,\"x_range\":{\"id\":\"1808\"},\"x_scale\":{\"id\":\"1816\"},\"y_range\":{\"id\":\"1809\"},\"y_scale\":{\"id\":\"1818\"}},\"id\":\"1811\",\"subtype\":\"Figure\",\"type\":\"Plot\"},{\"attributes\":{},\"id\":\"1816\",\"type\":\"LinearScale\"},{\"attributes\":{\"data\":{\"bmi\":{\"__ndarray__\":\"UrgehesxMUAK16NwPUoxQKRwPQrXwzFAFK5H4Xr0MUDNzMzMzEwyQLgehetRGDNAzczMzMxMM0DNzMzMzMwzQDMzMzMz8zNA7FG4HoULNEDhehSuRyE0QFyPwvUoPDRAhetRuB6FNEBmZmZmZuY0QHE9CtejkDVAKVyPwvWoNUAzMzMzM7M1QOF6FK5HwTVAzczMzMzMNUCamZmZmdk1QLgehetRODZA7FG4HoVrNkCamZmZmZk2QFyPwvUonDZA4XoUrkfhNkCF61G4HuU2QD0K16Nw/TZA9ihcj8I1N0AfhetRuF43QEjhehSupzdAw/UoXI/CN0C4HoXrUdg3QHsUrkfh+jdA4XoUrkchOEBSuB6F61E4QGZmZmZmZjhA7FG4HoVrOECamZmZmZk4QHsUrkfhmjhApHA9CtejOEAzMzMzM7M4QAAAAAAAwDhA7FG4HoXLOECkcD0K1+M4QJqZmZmZGTlAzczMzMwsOUCF61G4HkU5QM3MzMzMTDlAKVyPwvVoOUCuR+F6FI45QJqZmZmZmTlAMzMzMzOzOUDXo3A9Ctc5QJqZmZmZ2TlAZmZmZmbmOUBI4XoUrgc6QFK4HoXrETpAAAAAAAAgOkAK16NwPUo6QGZmZmZmZjpAKVyPwvVoOkCamZmZmZk6QFK4HoXrsTpAMzMzMzOzOkDXo3A9Ctc6QMP1KFyP4jpAexSuR+H6OkCPwvUoXA87QJqZmZmZGTtASOF6FK5HO0DNzMzMzEw7QFyPwvUoXDtAmpmZmZmZO0CF61G4HqU7QDMzMzMzsztAPQrXo3C9O0DNzMzMzMw7QBSuR+F61DtA9ihcj8LVO0BmZmZmZuY7QHE9Ctej8DtAAAAAAAAAPEBmZmZmZgY8QB+F61G4HjxA16NwPQo3PEDNzMzMzEw8QI/C9ShcTzxA4XoUrkdhPEA9CtejcH08QAAAAAAAgDxAcT0K16OwPEDhehSuR+E8QK5H4XoU7jxAmpmZmZn5PEBSuB6F6xE9QGZmZmZmJj1AMzMzMzOzPUDNzMzMzMw9QI/C9Shczz1AFK5H4XrUPUDsUbgehes9QM3MzMzM7D1AAAAAAAAAPkCF61G4HgU+QDMzMzMzMz5A9ihcj8I1PkAAAAAAAEA+QFyPwvUoXD5AZmZmZmZmPkAfhetRuH4+QI/C9Shcrz5ASOF6FK7HPkDNzMzMzMw+QAAAAAAA4D5AZmZmZmbmPkCF61G4HgU/QHE9CtejED9A4XoUrkchP0ApXI/C9Sg/QM3MzMzMTD9AmpmZmZlZP0BmZmZmZmY/QK5H4XoUrj9AexSuR+G6P0AK16NwPco/QDMzMzMz0z9A7FG4HoXrP0BSuB6F6wFAQJqZmZmZGUBAZmZmZmYmQECamZmZmTlAQB+F61G4PkBASOF6FK5HQECamZmZmVlAQDMzMzMzY0BApHA9CtdjQEBmZmZmZmZAQDMzMzMzc0BArkfhehSOQEAK16NwPapAQDMzMzMzs0BAAAAAAADAQEAUrkfhesRAQHE9Ctej0EBAZmZmZmbmQEBxPQrXo/BAQM3MzMzMDEFAPQrXo3ANQUCamZmZmRlBQHsUrkfhGkFAUrgehesxQUAzMzMzMzNBQNejcD0KN0FArkfhehQ+QUDNzMzMzExBQJqZmZmZWUFAZmZmZmZmQUAzMzMzM3NBQHsUrkfhekFA7FG4HoWLQUCamZmZmZlBQGZmZmZmpkFAAAAAAADAQUCkcD0K18NBQM3MzMzMzEFAAAAAAADQQUAAAAAAAOBBQK5H4XoU7kFAXI/C9Sj8QUAK16NwPQpCQLgehetRGEJAZmZmZmYmQkDhehSuRzFCQDMzMzMzM0JAPQrXo3A9QkBxPQrXo1BCQPYoXI/CVUJAUrgehethQkDNzMzMzGxCQK5H4XoUbkJACtejcD16QkB7FK5H4XpCQGZmZmZmhkJAKVyPwvWIQkCPwvUoXM9CQJqZmZmZ2UJAZmZmZmbmQkBI4XoUrgdDQFyPwvUoDENA9ihcj8IVQ0BSuB6F6zFDQLgehetReENAmpmZmZl5Q0BmZmZmZoZDQDMzMzMzs0NAMzMzMzPzQ0AzMzMzMxNEQI/C9ShcL0RAuB6F61FIRED2KFyPwnVEQFK4HoXrkURAZmZmZmbmREDD9Shcj/JEQHE9CtejEEVAH4XrUbgeRUDNzMzMzCxFQAAAAAAAYEVAMzMzMzNzRUBSuB6F6/FFQHE9CtejcEZAhetRuB7FRkCamZmZmRlHQBSuR+F6tEdAzczMzMzMR0AK16NwPUpKQA==\",\"dtype\":\"float64\",\"order\":\"little\",\"shape\":[215]},\"charges\":{\"__ndarray__\":\"f/s6cNI7zEA0gLdAug7JQNDVVuyL999A1edqK0pPzUA9Ctej0JPSQJYhjnUTYtBA9P3UeFnmzkAhsHJo4cbQQN0kBoEp49VAxyk6klGv4UCRD3o271PSQM07TtGzItNAowG8BfJ1zEAIrBxa9LLUQFUwKqnv2cpA5IOezbrly0DjpZvEQArLQKFns+ptRNBAHvmDgdWx00AEVg4tmrzeQNIA3gIR/dJAYqHWNN+7zEDjpZvEECzSQA+cM6JYSthAUwWjkjKz1kCfjscMK6fxQFjKMsT1reVAlIeFWoey1UBAE2HDL3/TQK62Yv+eJPBARPrt66BL2kB+HThnuorXQAWjkjrJP9FAV1uxvzRj40BTliGOdUnYQPyp8dLN1NFAQ/8El3VJ8EAlBoGVExbRQGEyVTDYwtRA4QuTqeIO00CuR+F6NF7VQM/3U+NxMNBAAwmKH/1x5ECBJsKG+ybVQLpJDAKTydhAjZduEhdPzkBbQj7o1ULVQJHtfD/9TuVAqmBUUqt21UDvycNCN9LTQLpJDAKjwtZAWDm0yIaF0UDbiv1lzz/XQLTIdr47nddA2/l+avy/0kDvycNCuRDQQPZdEfyyrOJAsHJokVPa1kCV1AloLijbQDvfT43PFNNA+MJkqlSt00C+nxovLdnUQNZW7C9VeOpAZmZmZqbz1UAawFsgUa/QQG+BBMUp9OhA0m9fB55F3EC3Yn/Z1aTQQNNNYhA4mNJA/fZ14NzL0UDb+X5qbLTPQPrt68CJTORAiUFg5RDy10AoDwu17PXXQDVeukns1M9AZMxdS2ip6EB4eqUst3jiQFuxv+xahtZAx7q4jWiK00Bg5dAiO33QQP5l9+TxqNJAIbByaBEE10DfT42XG5nsQJYhjnWBY+VA1QloIs5U2EDhehSuZ6LiQAe2SjBxuPdA/yH99n0Q00BLyAc9D+bRQEesxadIGupAHhZqTX9C1EBPr5RlIFXRQCL99nXsQdNAi2zn+5uU2kAHX5hMwbPmQMuhRbaf0dFAZDvfT11300Dwp8ZLX7fYQABvgQSJ5OZA3EYDeCvY50DYgXNGjDfeQM3MzMyC79VAXrpJDAKg1UBUUiegcUPgQL6fGi8zzPFAAd4CCfx05UASg8DKFcnfQI9wWvAbkO5Ax0s3iXGO4EACmggb4aPzQL7BFyY4gPJAodY07zjE8kD2KFyPMuvyQGIQWDnFz+ZA+FPjpfNl40DmP6TfcmHhQCgPC7XBueBAi/1l987+4EC8lpAPXkflQClcj8JhF+dAkxgEVnDr9ECTGARW0tjwQF5LyAf11vBAg1FJnRwS8UDiWBe3u2TlQARWDi0lEeRA4umVssJx8UAPC7WmxlHmQClcj8IpGedAd76fGuN35EBqvHSTHvrlQCswZHVXBOJASS7/Ian940D+1HjpGtXgQIPAyqGKUfNANxrAW6CW4UC05VyK2q3pQLpJDAKnnuFAfGEyVWBp8kA3GsBbkqPhQEoMAivvweJARIts5+sa4kAs1JrmOufgQGb35GGL5/NAXI/C9QBn50A3GsBbKOXmQFpkO9/HnuNAUkmdgF1S9EAX2c73Af/zQOlILv+XnOVA2qz6XEvr4kB9PzVetqzhQApoImzSbeJAw7tcxKxO7UAGgZVDs1fkQFCNl26yxeFAGy/dJII38kBzaJHtlAHhQPmgZ7O26vRARpT2BvH55kBt5/upz0v0QMuhRbbVyPJAp658li7F5UDV7IGWqmEAQVCNl24yYOFAAAAAACtL4kAfhetRxi3zQNxGA3jjwOZA9GxWfZCR5ECZKhiVEF/zQPcGX5iCWeRASOF6FC4G9UAYJlMFsrDnQLyReeRR/+hAArwFEhDh5ECqglFJO/vkQH/ZPXneHPNANjy9Uhlj50D0/dR4r6bhQHgLJCiuyOZA24r9ZT5w9EAcfGEyNTXoQJqZmZnjleZAC0YldcLi8kBjf9k9pSXiQGZmZmYO1+dAGy/dJC4p40Di5H7HL5UAQYfhI2JimexADXGsi3m64UAFNBE2BBz0QBWMSupUleVAJzEIrO785EC0yHa+jfzjQDEIrBwSueJAO99PjauF50DP91Pjx53iQDBMpgoMb+VABTQRNrMC90CgibDhMcTnQNDVVuxH6edA2c73U7sU50DkFB3JKl3lQJXUCWj0jfVARGlv8BXx4kCLbOf744jmQPLSTWIG+eNAVOOlm9ws50Bpb/CFH4/mQInS3uBXZeNA3gIJigeQ5ED2KFyP5mTmQAwHQrJNI+9ACKwcWjCE5kAp7Q2+rLrlQA==\",\"dtype\":\"float64\",\"order\":\"little\",\"shape\":[215]}},\"selected\":{\"id\":\"1842\"},\"selection_policy\":{\"id\":\"1867\"}},\"id\":\"1841\",\"type\":\"ColumnDataSource\"},{\"attributes\":{\"coordinates\":null,\"group\":null,\"text\":\"Charges per bmi body mass index score\",\"text_color\":\"black\",\"text_font_size\":\"12pt\"},\"id\":\"1812\",\"type\":\"Title\"},{\"attributes\":{\"axis_label\":\"bmi\",\"coordinates\":null,\"formatter\":{\"id\":\"1851\"},\"group\":null,\"major_label_policy\":{\"id\":\"1852\"},\"ticker\":{\"id\":\"1821\"}},\"id\":\"1820\",\"type\":\"LinearAxis\"},{\"attributes\":{},\"id\":\"1829\",\"type\":\"PanTool\"},{\"attributes\":{\"axis\":{\"id\":\"1820\"},\"coordinates\":null,\"grid_line_color\":null,\"group\":null,\"ticker\":null},\"id\":\"1823\",\"type\":\"Grid\"},{\"attributes\":{},\"id\":\"1821\",\"type\":\"BasicTicker\"},{\"attributes\":{\"axis_label\":\"charges\",\"coordinates\":null,\"formatter\":{\"id\":\"1854\"},\"group\":null,\"major_label_policy\":{\"id\":\"1855\"},\"ticker\":{\"id\":\"1825\"}},\"id\":\"1824\",\"type\":\"LinearAxis\"},{\"attributes\":{\"axis\":{\"id\":\"1824\"},\"coordinates\":null,\"dimension\":1,\"grid_line_color\":null,\"group\":null,\"ticker\":null},\"id\":\"1827\",\"type\":\"Grid\"},{\"attributes\":{},\"id\":\"1851\",\"type\":\"BasicTickFormatter\"},{\"attributes\":{},\"id\":\"1825\",\"type\":\"BasicTicker\"},{\"attributes\":{},\"id\":\"1830\",\"type\":\"WheelZoomTool\"},{\"attributes\":{},\"id\":\"1855\",\"type\":\"AllLabels\"},{\"attributes\":{},\"id\":\"1867\",\"type\":\"UnionRenderers\"},{\"attributes\":{\"callback\":null,\"renderers\":[{\"id\":\"1847\"}],\"tags\":[\"hv_created\"],\"tooltips\":[[\"bmi\",\"@{bmi}\"],[\"charges\",\"@{charges}\"]]},\"id\":\"1810\",\"type\":\"HoverTool\"},{\"attributes\":{},\"id\":\"1828\",\"type\":\"SaveTool\"},{\"attributes\":{\"overlay\":{\"id\":\"1833\"}},\"id\":\"1831\",\"type\":\"BoxZoomTool\"},{\"attributes\":{},\"id\":\"1832\",\"type\":\"ResetTool\"},{\"attributes\":{\"children\":[{\"id\":\"1811\"}],\"height\":300,\"margin\":[0,0,0,0],\"name\":\"Row02255\",\"sizing_mode\":\"fixed\",\"tags\":[\"embedded\"],\"width\":700},\"id\":\"1807\",\"type\":\"Row\"},{\"attributes\":{},\"id\":\"1818\",\"type\":\"LinearScale\"},{\"attributes\":{\"bottom_units\":\"screen\",\"coordinates\":null,\"fill_alpha\":0.5,\"fill_color\":\"lightgrey\",\"group\":null,\"left_units\":\"screen\",\"level\":\"overlay\",\"line_alpha\":1.0,\"line_color\":\"black\",\"line_dash\":[4,4],\"line_width\":2,\"right_units\":\"screen\",\"syncable\":false,\"top_units\":\"screen\"},\"id\":\"1833\",\"type\":\"BoxAnnotation\"},{\"attributes\":{\"fill_alpha\":{\"value\":0.1},\"fill_color\":{\"value\":\"#30a2da\"},\"hatch_alpha\":{\"value\":0.1},\"hatch_color\":{\"value\":\"#30a2da\"},\"line_alpha\":{\"value\":0.1},\"line_color\":{\"value\":\"#30a2da\"},\"size\":{\"value\":5.477225575051661},\"x\":{\"field\":\"bmi\"},\"y\":{\"field\":\"charges\"}},\"id\":\"1845\",\"type\":\"Scatter\"},{\"attributes\":{\"end\":100000,\"reset_end\":100000,\"reset_start\":10000,\"start\":10000,\"tags\":[[[\"charges\",\"charges\",null]]]},\"id\":\"1809\",\"type\":\"Range1d\"},{\"attributes\":{\"active_drag\":{\"id\":\"1829\"},\"active_scroll\":{\"id\":\"1830\"},\"tools\":[{\"id\":\"1810\"},{\"id\":\"1828\"},{\"id\":\"1829\"},{\"id\":\"1830\"},{\"id\":\"1831\"},{\"id\":\"1832\"}]},\"id\":\"1834\",\"type\":\"Toolbar\"},{\"attributes\":{},\"id\":\"1854\",\"type\":\"BasicTickFormatter\"},{\"attributes\":{},\"id\":\"1842\",\"type\":\"Selection\"},{\"attributes\":{},\"id\":\"1852\",\"type\":\"AllLabels\"},{\"attributes\":{\"coordinates\":null,\"data_source\":{\"id\":\"1841\"},\"glyph\":{\"id\":\"1844\"},\"group\":null,\"hover_glyph\":null,\"muted_glyph\":{\"id\":\"1846\"},\"nonselection_glyph\":{\"id\":\"1845\"},\"selection_glyph\":{\"id\":\"1849\"},\"view\":{\"id\":\"1848\"}},\"id\":\"1847\",\"type\":\"GlyphRenderer\"},{\"attributes\":{\"fill_color\":{\"value\":\"#30a2da\"},\"hatch_color\":{\"value\":\"#30a2da\"},\"line_color\":{\"value\":\"#30a2da\"},\"size\":{\"value\":5.477225575051661},\"x\":{\"field\":\"bmi\"},\"y\":{\"field\":\"charges\"}},\"id\":\"1844\",\"type\":\"Scatter\"},{\"attributes\":{\"fill_alpha\":{\"value\":0.2},\"fill_color\":{\"value\":\"#30a2da\"},\"hatch_alpha\":{\"value\":0.2},\"hatch_color\":{\"value\":\"#30a2da\"},\"line_alpha\":{\"value\":0.2},\"line_color\":{\"value\":\"#30a2da\"},\"size\":{\"value\":5.477225575051661},\"x\":{\"field\":\"bmi\"},\"y\":{\"field\":\"charges\"}},\"id\":\"1846\",\"type\":\"Scatter\"}],\"root_ids\":[\"1807\"]},\"title\":\"Bokeh Application\",\"version\":\"2.4.3\"}};\n",
       "    var render_items = [{\"docid\":\"3a923220-afe3-45bb-9736-ccf0d7b05e5d\",\"root_ids\":[\"1807\"],\"roots\":{\"1807\":\"6bc3cd3c-6124-4ead-87be-ea66ed5f63f0\"}}];\n",
       "    root.Bokeh.embed.embed_items_notebook(docs_json, render_items);\n",
       "    for (const render_item of render_items) {\n",
       "      for (const root_id of render_item.root_ids) {\n",
       "\tconst id_el = document.getElementById(root_id)\n",
       "\tif (id_el.children.length && (id_el.children[0].className === 'bk-root')) {\n",
       "\t  const root_el = id_el.children[0]\n",
       "\t  root_el.id = root_el.id + '-rendered'\n",
       "\t}\n",
       "      }\n",
       "    }\n",
       "  }\n",
       "  if (root.Bokeh !== undefined && root.Bokeh.Panel !== undefined) {\n",
       "    embed_document(root);\n",
       "  } else {\n",
       "    var attempts = 0;\n",
       "    var timer = setInterval(function(root) {\n",
       "      if (root.Bokeh !== undefined && root.Bokeh.Panel !== undefined) {\n",
       "        clearInterval(timer);\n",
       "        embed_document(root);\n",
       "      } else if (document.readyState == \"complete\") {\n",
       "        attempts++;\n",
       "        if (attempts > 200) {\n",
       "          clearInterval(timer);\n",
       "          console.log(\"Bokeh: ERROR: Unable to run BokehJS code because BokehJS library is missing\");\n",
       "        }\n",
       "      }\n",
       "    }, 25, root)\n",
       "  }\n",
       "})(window);</script>"
      ],
      "text/plain": [
       ":Scatter   [bmi]   (charges)"
      ]
     },
     "execution_count": 121,
     "metadata": {
      "application/vnd.holoviews_exec.v0+json": {
       "id": "1807"
      }
     },
     "output_type": "execute_result"
    }
   ],
   "source": [
    "#show the scatterplot\n",
    "# Create a scatter plot with the sales information\n",
    "bmi_plot = bmi_df.hvplot.scatter(\n",
    "    x=\"bmi\",\n",
    "    y=\"charges\",\n",
    "    xlim=(15, 50), \n",
    "    ylim=(10000, 100000),\n",
    "    title=\"Charges per bmi body mass index score\"\n",
    ")\n",
    "bmi_plot"
   ]
  },
  {
   "cell_type": "markdown",
   "metadata": {},
   "source": [
    "The data does not look bound and moving in a negative or positive direction... It looks stationary. A bad candidate for modeling any relationship"
   ]
  },
  {
   "cell_type": "code",
   "execution_count": 122,
   "metadata": {},
   "outputs": [
    {
     "data": {
      "text/plain": [
       "array([[17.195],\n",
       "       [17.29 ],\n",
       "       [17.765],\n",
       "       [17.955],\n",
       "       [18.3  ]])"
      ]
     },
     "execution_count": 122,
     "metadata": {},
     "output_type": "execute_result"
    }
   ],
   "source": [
    "X = bmi_df[\"bmi\"].values.reshape(-1, 1)\n",
    "\n",
    "# Display sample data\n",
    "X[:5]"
   ]
  },
  {
   "cell_type": "code",
   "execution_count": 123,
   "metadata": {},
   "outputs": [
    {
     "data": {
      "text/plain": [
       "0    14455.64405\n",
       "1    12829.45510\n",
       "2    32734.18630\n",
       "3    15006.57945\n",
       "4    19023.26000\n",
       "Name: charges, dtype: float64"
      ]
     },
     "execution_count": 123,
     "metadata": {},
     "output_type": "execute_result"
    }
   ],
   "source": [
    "y = bmi_df[\"charges\"]\n",
    "y[:5]"
   ]
  },
  {
   "cell_type": "markdown",
   "metadata": {},
   "source": [
    "Build the model regardless of the bad looking graph"
   ]
  },
  {
   "cell_type": "code",
   "execution_count": 124,
   "metadata": {},
   "outputs": [
    {
     "data": {
      "text/html": [
       "<style>#sk-container-id-9 {color: black;background-color: white;}#sk-container-id-9 pre{padding: 0;}#sk-container-id-9 div.sk-toggleable {background-color: white;}#sk-container-id-9 label.sk-toggleable__label {cursor: pointer;display: block;width: 100%;margin-bottom: 0;padding: 0.3em;box-sizing: border-box;text-align: center;}#sk-container-id-9 label.sk-toggleable__label-arrow:before {content: \"▸\";float: left;margin-right: 0.25em;color: #696969;}#sk-container-id-9 label.sk-toggleable__label-arrow:hover:before {color: black;}#sk-container-id-9 div.sk-estimator:hover label.sk-toggleable__label-arrow:before {color: black;}#sk-container-id-9 div.sk-toggleable__content {max-height: 0;max-width: 0;overflow: hidden;text-align: left;background-color: #f0f8ff;}#sk-container-id-9 div.sk-toggleable__content pre {margin: 0.2em;color: black;border-radius: 0.25em;background-color: #f0f8ff;}#sk-container-id-9 input.sk-toggleable__control:checked~div.sk-toggleable__content {max-height: 200px;max-width: 100%;overflow: auto;}#sk-container-id-9 input.sk-toggleable__control:checked~label.sk-toggleable__label-arrow:before {content: \"▾\";}#sk-container-id-9 div.sk-estimator input.sk-toggleable__control:checked~label.sk-toggleable__label {background-color: #d4ebff;}#sk-container-id-9 div.sk-label input.sk-toggleable__control:checked~label.sk-toggleable__label {background-color: #d4ebff;}#sk-container-id-9 input.sk-hidden--visually {border: 0;clip: rect(1px 1px 1px 1px);clip: rect(1px, 1px, 1px, 1px);height: 1px;margin: -1px;overflow: hidden;padding: 0;position: absolute;width: 1px;}#sk-container-id-9 div.sk-estimator {font-family: monospace;background-color: #f0f8ff;border: 1px dotted black;border-radius: 0.25em;box-sizing: border-box;margin-bottom: 0.5em;}#sk-container-id-9 div.sk-estimator:hover {background-color: #d4ebff;}#sk-container-id-9 div.sk-parallel-item::after {content: \"\";width: 100%;border-bottom: 1px solid gray;flex-grow: 1;}#sk-container-id-9 div.sk-label:hover label.sk-toggleable__label {background-color: #d4ebff;}#sk-container-id-9 div.sk-serial::before {content: \"\";position: absolute;border-left: 1px solid gray;box-sizing: border-box;top: 0;bottom: 0;left: 50%;z-index: 0;}#sk-container-id-9 div.sk-serial {display: flex;flex-direction: column;align-items: center;background-color: white;padding-right: 0.2em;padding-left: 0.2em;position: relative;}#sk-container-id-9 div.sk-item {position: relative;z-index: 1;}#sk-container-id-9 div.sk-parallel {display: flex;align-items: stretch;justify-content: center;background-color: white;position: relative;}#sk-container-id-9 div.sk-item::before, #sk-container-id-9 div.sk-parallel-item::before {content: \"\";position: absolute;border-left: 1px solid gray;box-sizing: border-box;top: 0;bottom: 0;left: 50%;z-index: -1;}#sk-container-id-9 div.sk-parallel-item {display: flex;flex-direction: column;z-index: 1;position: relative;background-color: white;}#sk-container-id-9 div.sk-parallel-item:first-child::after {align-self: flex-end;width: 50%;}#sk-container-id-9 div.sk-parallel-item:last-child::after {align-self: flex-start;width: 50%;}#sk-container-id-9 div.sk-parallel-item:only-child::after {width: 0;}#sk-container-id-9 div.sk-dashed-wrapped {border: 1px dashed gray;margin: 0 0.4em 0.5em 0.4em;box-sizing: border-box;padding-bottom: 0.4em;background-color: white;}#sk-container-id-9 div.sk-label label {font-family: monospace;font-weight: bold;display: inline-block;line-height: 1.2em;}#sk-container-id-9 div.sk-label-container {text-align: center;}#sk-container-id-9 div.sk-container {/* jupyter's `normalize.less` sets `[hidden] { display: none; }` but bootstrap.min.css set `[hidden] { display: none !important; }` so we also need the `!important` here to be able to override the default hidden behavior on the sphinx rendered scikit-learn.org. See: https://github.com/scikit-learn/scikit-learn/issues/21755 */display: inline-block !important;position: relative;}#sk-container-id-9 div.sk-text-repr-fallback {display: none;}</style><div id=\"sk-container-id-9\" class=\"sk-top-container\"><div class=\"sk-text-repr-fallback\"><pre>LinearRegression()</pre><b>In a Jupyter environment, please rerun this cell to show the HTML representation or trust the notebook. <br />On GitHub, the HTML representation is unable to render, please try loading this page with nbviewer.org.</b></div><div class=\"sk-container\" hidden><div class=\"sk-item\"><div class=\"sk-estimator sk-toggleable\"><input class=\"sk-toggleable__control sk-hidden--visually\" id=\"sk-estimator-id-9\" type=\"checkbox\" checked><label for=\"sk-estimator-id-9\" class=\"sk-toggleable__label sk-toggleable__label-arrow\">LinearRegression</label><div class=\"sk-toggleable__content\"><pre>LinearRegression()</pre></div></div></div></div></div>"
      ],
      "text/plain": [
       "LinearRegression()"
      ]
     },
     "execution_count": 124,
     "metadata": {},
     "output_type": "execute_result"
    }
   ],
   "source": [
    "# Create a model with scikit-learn\n",
    "model = LinearRegression()\n",
    "# Fit the data into the model\n",
    "model.fit(X, y)"
   ]
  },
  {
   "cell_type": "code",
   "execution_count": 125,
   "metadata": {},
   "outputs": [
    {
     "name": "stdout",
     "output_type": "stream",
     "text": [
      "Model's slope: [1707.99430618]\n",
      "Model's y-intercept: -11614.362319344677\n",
      "Model's formula: y = -11614.362319344677 + 1707.99430618145X\n"
     ]
    }
   ],
   "source": [
    "# Display the slope\n",
    "print(f\"Model's slope: {model.coef_}\")\n",
    "print(f\"Model's y-intercept: {model.intercept_}\")\n",
    "print(f\"Model's formula: y = {model.intercept_} + {model.coef_[0]}X\")"
   ]
  },
  {
   "cell_type": "markdown",
   "metadata": {},
   "source": [
    "Plot the best fit line for the cost model"
   ]
  },
  {
   "cell_type": "code",
   "execution_count": 126,
   "metadata": {},
   "outputs": [
    {
     "data": {
      "text/html": [
       "<div>\n",
       "<style scoped>\n",
       "    .dataframe tbody tr th:only-of-type {\n",
       "        vertical-align: middle;\n",
       "    }\n",
       "\n",
       "    .dataframe tbody tr th {\n",
       "        vertical-align: top;\n",
       "    }\n",
       "\n",
       "    .dataframe thead th {\n",
       "        text-align: right;\n",
       "    }\n",
       "</style>\n",
       "<table border=\"1\" class=\"dataframe\">\n",
       "  <thead>\n",
       "    <tr style=\"text-align: right;\">\n",
       "      <th></th>\n",
       "      <th>bmi</th>\n",
       "      <th>charges</th>\n",
       "      <th>costs_predicted</th>\n",
       "    </tr>\n",
       "  </thead>\n",
       "  <tbody>\n",
       "    <tr>\n",
       "      <th>0</th>\n",
       "      <td>17.195</td>\n",
       "      <td>14455.64405</td>\n",
       "      <td>17754.599775</td>\n",
       "    </tr>\n",
       "    <tr>\n",
       "      <th>1</th>\n",
       "      <td>17.290</td>\n",
       "      <td>12829.45510</td>\n",
       "      <td>17916.859235</td>\n",
       "    </tr>\n",
       "    <tr>\n",
       "      <th>2</th>\n",
       "      <td>17.765</td>\n",
       "      <td>32734.18630</td>\n",
       "      <td>18728.156530</td>\n",
       "    </tr>\n",
       "    <tr>\n",
       "      <th>3</th>\n",
       "      <td>17.955</td>\n",
       "      <td>15006.57945</td>\n",
       "      <td>19052.675448</td>\n",
       "    </tr>\n",
       "    <tr>\n",
       "      <th>4</th>\n",
       "      <td>18.300</td>\n",
       "      <td>19023.26000</td>\n",
       "      <td>19641.933484</td>\n",
       "    </tr>\n",
       "  </tbody>\n",
       "</table>\n",
       "</div>"
      ],
      "text/plain": [
       "      bmi      charges  costs_predicted\n",
       "0  17.195  14455.64405     17754.599775\n",
       "1  17.290  12829.45510     17916.859235\n",
       "2  17.765  32734.18630     18728.156530\n",
       "3  17.955  15006.57945     19052.675448\n",
       "4  18.300  19023.26000     19641.933484"
      ]
     },
     "execution_count": 126,
     "metadata": {},
     "output_type": "execute_result"
    }
   ],
   "source": [
    "predicted_y_values = model.predict(X)\n",
    "df_bmi_predicted = bmi_df.copy()\n",
    "\n",
    "# Add a column with the predicted sales values\n",
    "predict_y = []  #make them ints not doubles\n",
    "for i in predicted_y_values:\n",
    "    predict_y.append(i)\n",
    "\n",
    "df_bmi_predicted[\"costs_predicted\"] = predict_y\n",
    "\n",
    "# Display sample data\n",
    "df_bmi_predicted.head()"
   ]
  },
  {
   "cell_type": "code",
   "execution_count": 128,
   "metadata": {},
   "outputs": [
    {
     "data": {},
     "metadata": {},
     "output_type": "display_data"
    },
    {
     "data": {
      "application/vnd.holoviews_exec.v0+json": "",
      "text/html": [
       "<div id='1921'>\n",
       "  <div class=\"bk-root\" id=\"dd8aad93-9d02-46a3-9fc5-3d76bc8a63f6\" data-root-id=\"1921\"></div>\n",
       "</div>\n",
       "<script type=\"application/javascript\">(function(root) {\n",
       "  function embed_document(root) {\n",
       "    var docs_json = {\"6ce5a585-d028-4b06-bfab-e4d324315d6c\":{\"defs\":[{\"extends\":null,\"module\":null,\"name\":\"ReactiveHTML1\",\"overrides\":[],\"properties\":[]},{\"extends\":null,\"module\":null,\"name\":\"FlexBox1\",\"overrides\":[],\"properties\":[{\"default\":\"flex-start\",\"kind\":null,\"name\":\"align_content\"},{\"default\":\"flex-start\",\"kind\":null,\"name\":\"align_items\"},{\"default\":\"row\",\"kind\":null,\"name\":\"flex_direction\"},{\"default\":\"wrap\",\"kind\":null,\"name\":\"flex_wrap\"},{\"default\":\"flex-start\",\"kind\":null,\"name\":\"justify_content\"}]},{\"extends\":null,\"module\":null,\"name\":\"GridStack1\",\"overrides\":[],\"properties\":[{\"default\":\"warn\",\"kind\":null,\"name\":\"mode\"},{\"default\":null,\"kind\":null,\"name\":\"ncols\"},{\"default\":null,\"kind\":null,\"name\":\"nrows\"},{\"default\":true,\"kind\":null,\"name\":\"allow_resize\"},{\"default\":true,\"kind\":null,\"name\":\"allow_drag\"},{\"default\":[],\"kind\":null,\"name\":\"state\"}]},{\"extends\":null,\"module\":null,\"name\":\"click1\",\"overrides\":[],\"properties\":[{\"default\":\"\",\"kind\":null,\"name\":\"terminal_output\"},{\"default\":\"\",\"kind\":null,\"name\":\"debug_name\"},{\"default\":0,\"kind\":null,\"name\":\"clears\"}]},{\"extends\":null,\"module\":null,\"name\":\"NotificationAreaBase1\",\"overrides\":[],\"properties\":[{\"default\":\"bottom-right\",\"kind\":null,\"name\":\"position\"},{\"default\":0,\"kind\":null,\"name\":\"_clear\"}]},{\"extends\":null,\"module\":null,\"name\":\"NotificationArea1\",\"overrides\":[],\"properties\":[{\"default\":[],\"kind\":null,\"name\":\"notifications\"},{\"default\":\"bottom-right\",\"kind\":null,\"name\":\"position\"},{\"default\":0,\"kind\":null,\"name\":\"_clear\"},{\"default\":[{\"background\":\"#ffc107\",\"icon\":{\"className\":\"fas fa-exclamation-triangle\",\"color\":\"white\",\"tagName\":\"i\"},\"type\":\"warning\"},{\"background\":\"#007bff\",\"icon\":{\"className\":\"fas fa-info-circle\",\"color\":\"white\",\"tagName\":\"i\"},\"type\":\"info\"}],\"kind\":null,\"name\":\"types\"}]},{\"extends\":null,\"module\":null,\"name\":\"Notification\",\"overrides\":[],\"properties\":[{\"default\":null,\"kind\":null,\"name\":\"background\"},{\"default\":3000,\"kind\":null,\"name\":\"duration\"},{\"default\":null,\"kind\":null,\"name\":\"icon\"},{\"default\":\"\",\"kind\":null,\"name\":\"message\"},{\"default\":null,\"kind\":null,\"name\":\"notification_type\"},{\"default\":false,\"kind\":null,\"name\":\"_destroyed\"}]},{\"extends\":null,\"module\":null,\"name\":\"TemplateActions1\",\"overrides\":[],\"properties\":[{\"default\":0,\"kind\":null,\"name\":\"open_modal\"},{\"default\":0,\"kind\":null,\"name\":\"close_modal\"}]},{\"extends\":null,\"module\":null,\"name\":\"MaterialTemplateActions1\",\"overrides\":[],\"properties\":[{\"default\":0,\"kind\":null,\"name\":\"open_modal\"},{\"default\":0,\"kind\":null,\"name\":\"close_modal\"}]}],\"roots\":{\"references\":[{\"attributes\":{},\"id\":\"1944\",\"type\":\"WheelZoomTool\"},{\"attributes\":{},\"id\":\"1965\",\"type\":\"BasicTickFormatter\"},{\"attributes\":{},\"id\":\"1942\",\"type\":\"SaveTool\"},{\"attributes\":{\"overlay\":{\"id\":\"1947\"}},\"id\":\"1945\",\"type\":\"BoxZoomTool\"},{\"attributes\":{},\"id\":\"1946\",\"type\":\"ResetTool\"},{\"attributes\":{\"children\":[{\"id\":\"1925\"}],\"height\":300,\"margin\":[0,0,0,0],\"name\":\"Row02360\",\"sizing_mode\":\"fixed\",\"tags\":[\"embedded\"],\"width\":700},\"id\":\"1921\",\"type\":\"Row\"},{\"attributes\":{\"bottom_units\":\"screen\",\"coordinates\":null,\"fill_alpha\":0.5,\"fill_color\":\"lightgrey\",\"group\":null,\"left_units\":\"screen\",\"level\":\"overlay\",\"line_alpha\":1.0,\"line_color\":\"black\",\"line_dash\":[4,4],\"line_width\":2,\"right_units\":\"screen\",\"syncable\":false,\"top_units\":\"screen\"},\"id\":\"1947\",\"type\":\"BoxAnnotation\"},{\"attributes\":{},\"id\":\"1956\",\"type\":\"Selection\"},{\"attributes\":{\"source\":{\"id\":\"1955\"}},\"id\":\"1962\",\"type\":\"CDSView\"},{\"attributes\":{},\"id\":\"1968\",\"type\":\"BasicTickFormatter\"},{\"attributes\":{},\"id\":\"1981\",\"type\":\"UnionRenderers\"},{\"attributes\":{\"end\":52.58,\"reset_end\":52.58,\"reset_start\":17.195,\"start\":17.195,\"tags\":[[[\"bmi\",\"bmi\",null]]]},\"id\":\"1922\",\"type\":\"Range1d\"},{\"attributes\":{\"line_color\":\"red\",\"line_width\":2,\"x\":{\"field\":\"bmi\"},\"y\":{\"field\":\"costs_predicted\"}},\"id\":\"1958\",\"type\":\"Line\"},{\"attributes\":{},\"id\":\"1930\",\"type\":\"LinearScale\"},{\"attributes\":{\"below\":[{\"id\":\"1934\"}],\"center\":[{\"id\":\"1937\"},{\"id\":\"1941\"}],\"height\":300,\"left\":[{\"id\":\"1938\"}],\"margin\":[5,5,5,5],\"min_border_bottom\":10,\"min_border_left\":10,\"min_border_right\":10,\"min_border_top\":10,\"renderers\":[{\"id\":\"1961\"}],\"sizing_mode\":\"fixed\",\"title\":{\"id\":\"1926\"},\"toolbar\":{\"id\":\"1948\"},\"width\":700,\"x_range\":{\"id\":\"1922\"},\"x_scale\":{\"id\":\"1930\"},\"y_range\":{\"id\":\"1923\"},\"y_scale\":{\"id\":\"1932\"}},\"id\":\"1925\",\"subtype\":\"Figure\",\"type\":\"Plot\"},{\"attributes\":{\"active_drag\":{\"id\":\"1943\"},\"active_scroll\":{\"id\":\"1944\"},\"tools\":[{\"id\":\"1924\"},{\"id\":\"1942\"},{\"id\":\"1943\"},{\"id\":\"1944\"},{\"id\":\"1945\"},{\"id\":\"1946\"}]},\"id\":\"1948\",\"type\":\"Toolbar\"},{\"attributes\":{\"end\":84235.716152099,\"reset_end\":84235.716152099,\"reset_start\":11710.861923022298,\"start\":11710.861923022298,\"tags\":[[[\"costs_predicted\",\"costs_predicted\",null]]]},\"id\":\"1923\",\"type\":\"Range1d\"},{\"attributes\":{\"callback\":null,\"renderers\":[{\"id\":\"1961\"}],\"tags\":[\"hv_created\"],\"tooltips\":[[\"bmi\",\"@{bmi}\"],[\"costs_predicted\",\"@{costs_predicted}\"]]},\"id\":\"1924\",\"type\":\"HoverTool\"},{\"attributes\":{\"line_alpha\":0.1,\"line_color\":\"red\",\"line_width\":2,\"x\":{\"field\":\"bmi\"},\"y\":{\"field\":\"costs_predicted\"}},\"id\":\"1959\",\"type\":\"Line\"},{\"attributes\":{},\"id\":\"1932\",\"type\":\"LinearScale\"},{\"attributes\":{},\"id\":\"1969\",\"type\":\"AllLabels\"},{\"attributes\":{\"line_alpha\":0.2,\"line_color\":\"red\",\"line_width\":2,\"x\":{\"field\":\"bmi\"},\"y\":{\"field\":\"costs_predicted\"}},\"id\":\"1960\",\"type\":\"Line\"},{\"attributes\":{},\"id\":\"1935\",\"type\":\"BasicTicker\"},{\"attributes\":{\"line_color\":\"red\",\"line_width\":2,\"x\":{\"field\":\"bmi\"},\"y\":{\"field\":\"costs_predicted\"}},\"id\":\"1963\",\"type\":\"Line\"},{\"attributes\":{\"coordinates\":null,\"group\":null,\"text_color\":\"black\",\"text_font_size\":\"12pt\"},\"id\":\"1926\",\"type\":\"Title\"},{\"attributes\":{\"axis\":{\"id\":\"1934\"},\"coordinates\":null,\"grid_line_color\":null,\"group\":null,\"ticker\":null},\"id\":\"1937\",\"type\":\"Grid\"},{\"attributes\":{\"axis_label\":\"bmi\",\"coordinates\":null,\"formatter\":{\"id\":\"1965\"},\"group\":null,\"major_label_policy\":{\"id\":\"1966\"},\"ticker\":{\"id\":\"1935\"}},\"id\":\"1934\",\"type\":\"LinearAxis\"},{\"attributes\":{\"data\":{\"bmi\":{\"__ndarray__\":\"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\",\"dtype\":\"float64\",\"order\":\"little\",\"shape\":[215]},\"costs_predicted\":{\"__ndarray__\":\"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\",\"dtype\":\"float64\",\"order\":\"little\",\"shape\":[215]}},\"selected\":{\"id\":\"1956\"},\"selection_policy\":{\"id\":\"1981\"}},\"id\":\"1955\",\"type\":\"ColumnDataSource\"},{\"attributes\":{},\"id\":\"1966\",\"type\":\"AllLabels\"},{\"attributes\":{\"coordinates\":null,\"data_source\":{\"id\":\"1955\"},\"glyph\":{\"id\":\"1958\"},\"group\":null,\"hover_glyph\":null,\"muted_glyph\":{\"id\":\"1960\"},\"nonselection_glyph\":{\"id\":\"1959\"},\"selection_glyph\":{\"id\":\"1963\"},\"view\":{\"id\":\"1962\"}},\"id\":\"1961\",\"type\":\"GlyphRenderer\"},{\"attributes\":{},\"id\":\"1943\",\"type\":\"PanTool\"},{\"attributes\":{\"axis_label\":\"costs_predicted\",\"coordinates\":null,\"formatter\":{\"id\":\"1968\"},\"group\":null,\"major_label_policy\":{\"id\":\"1969\"},\"ticker\":{\"id\":\"1939\"}},\"id\":\"1938\",\"type\":\"LinearAxis\"},{\"attributes\":{\"axis\":{\"id\":\"1938\"},\"coordinates\":null,\"dimension\":1,\"grid_line_color\":null,\"group\":null,\"ticker\":null},\"id\":\"1941\",\"type\":\"Grid\"},{\"attributes\":{},\"id\":\"1939\",\"type\":\"BasicTicker\"}],\"root_ids\":[\"1921\"]},\"title\":\"Bokeh Application\",\"version\":\"2.4.3\"}};\n",
       "    var render_items = [{\"docid\":\"6ce5a585-d028-4b06-bfab-e4d324315d6c\",\"root_ids\":[\"1921\"],\"roots\":{\"1921\":\"dd8aad93-9d02-46a3-9fc5-3d76bc8a63f6\"}}];\n",
       "    root.Bokeh.embed.embed_items_notebook(docs_json, render_items);\n",
       "    for (const render_item of render_items) {\n",
       "      for (const root_id of render_item.root_ids) {\n",
       "\tconst id_el = document.getElementById(root_id)\n",
       "\tif (id_el.children.length && (id_el.children[0].className === 'bk-root')) {\n",
       "\t  const root_el = id_el.children[0]\n",
       "\t  root_el.id = root_el.id + '-rendered'\n",
       "\t}\n",
       "      }\n",
       "    }\n",
       "  }\n",
       "  if (root.Bokeh !== undefined && root.Bokeh.Panel !== undefined) {\n",
       "    embed_document(root);\n",
       "  } else {\n",
       "    var attempts = 0;\n",
       "    var timer = setInterval(function(root) {\n",
       "      if (root.Bokeh !== undefined && root.Bokeh.Panel !== undefined) {\n",
       "        clearInterval(timer);\n",
       "        embed_document(root);\n",
       "      } else if (document.readyState == \"complete\") {\n",
       "        attempts++;\n",
       "        if (attempts > 200) {\n",
       "          clearInterval(timer);\n",
       "          console.log(\"Bokeh: ERROR: Unable to run BokehJS code because BokehJS library is missing\");\n",
       "        }\n",
       "      }\n",
       "    }, 25, root)\n",
       "  }\n",
       "})(window);</script>"
      ],
      "text/plain": [
       ":Curve   [bmi]   (costs_predicted)"
      ]
     },
     "execution_count": 128,
     "metadata": {
      "application/vnd.holoviews_exec.v0+json": {
       "id": "1921"
      }
     },
     "output_type": "execute_result"
    }
   ],
   "source": [
    "best_fit_line = df_bmi_predicted.hvplot.line(\n",
    "    x = \"bmi\",\n",
    "    y = \"costs_predicted\",\n",
    "    color = \"red\"\n",
    ")\n",
    "best_fit_line"
   ]
  },
  {
   "cell_type": "markdown",
   "metadata": {},
   "source": [
    "put the best fit linear line into our scatter plot or real data from kaggle... Should not be good in terms of linear regressions"
   ]
  },
  {
   "cell_type": "code",
   "execution_count": 129,
   "metadata": {},
   "outputs": [
    {
     "data": {},
     "metadata": {},
     "output_type": "display_data"
    },
    {
     "data": {
      "application/vnd.holoviews_exec.v0+json": "",
      "text/html": [
       "<div id='2035'>\n",
       "  <div class=\"bk-root\" id=\"163b7dc3-8dc0-47c9-944e-d6ee1d7ce8e4\" data-root-id=\"2035\"></div>\n",
       "</div>\n",
       "<script type=\"application/javascript\">(function(root) {\n",
       "  function embed_document(root) {\n",
       "    var docs_json = {\"b11d581a-e449-4e3e-95b9-ce8af7943761\":{\"defs\":[{\"extends\":null,\"module\":null,\"name\":\"ReactiveHTML1\",\"overrides\":[],\"properties\":[]},{\"extends\":null,\"module\":null,\"name\":\"FlexBox1\",\"overrides\":[],\"properties\":[{\"default\":\"flex-start\",\"kind\":null,\"name\":\"align_content\"},{\"default\":\"flex-start\",\"kind\":null,\"name\":\"align_items\"},{\"default\":\"row\",\"kind\":null,\"name\":\"flex_direction\"},{\"default\":\"wrap\",\"kind\":null,\"name\":\"flex_wrap\"},{\"default\":\"flex-start\",\"kind\":null,\"name\":\"justify_content\"}]},{\"extends\":null,\"module\":null,\"name\":\"GridStack1\",\"overrides\":[],\"properties\":[{\"default\":\"warn\",\"kind\":null,\"name\":\"mode\"},{\"default\":null,\"kind\":null,\"name\":\"ncols\"},{\"default\":null,\"kind\":null,\"name\":\"nrows\"},{\"default\":true,\"kind\":null,\"name\":\"allow_resize\"},{\"default\":true,\"kind\":null,\"name\":\"allow_drag\"},{\"default\":[],\"kind\":null,\"name\":\"state\"}]},{\"extends\":null,\"module\":null,\"name\":\"click1\",\"overrides\":[],\"properties\":[{\"default\":\"\",\"kind\":null,\"name\":\"terminal_output\"},{\"default\":\"\",\"kind\":null,\"name\":\"debug_name\"},{\"default\":0,\"kind\":null,\"name\":\"clears\"}]},{\"extends\":null,\"module\":null,\"name\":\"NotificationAreaBase1\",\"overrides\":[],\"properties\":[{\"default\":\"bottom-right\",\"kind\":null,\"name\":\"position\"},{\"default\":0,\"kind\":null,\"name\":\"_clear\"}]},{\"extends\":null,\"module\":null,\"name\":\"NotificationArea1\",\"overrides\":[],\"properties\":[{\"default\":[],\"kind\":null,\"name\":\"notifications\"},{\"default\":\"bottom-right\",\"kind\":null,\"name\":\"position\"},{\"default\":0,\"kind\":null,\"name\":\"_clear\"},{\"default\":[{\"background\":\"#ffc107\",\"icon\":{\"className\":\"fas fa-exclamation-triangle\",\"color\":\"white\",\"tagName\":\"i\"},\"type\":\"warning\"},{\"background\":\"#007bff\",\"icon\":{\"className\":\"fas fa-info-circle\",\"color\":\"white\",\"tagName\":\"i\"},\"type\":\"info\"}],\"kind\":null,\"name\":\"types\"}]},{\"extends\":null,\"module\":null,\"name\":\"Notification\",\"overrides\":[],\"properties\":[{\"default\":null,\"kind\":null,\"name\":\"background\"},{\"default\":3000,\"kind\":null,\"name\":\"duration\"},{\"default\":null,\"kind\":null,\"name\":\"icon\"},{\"default\":\"\",\"kind\":null,\"name\":\"message\"},{\"default\":null,\"kind\":null,\"name\":\"notification_type\"},{\"default\":false,\"kind\":null,\"name\":\"_destroyed\"}]},{\"extends\":null,\"module\":null,\"name\":\"TemplateActions1\",\"overrides\":[],\"properties\":[{\"default\":0,\"kind\":null,\"name\":\"open_modal\"},{\"default\":0,\"kind\":null,\"name\":\"close_modal\"}]},{\"extends\":null,\"module\":null,\"name\":\"MaterialTemplateActions1\",\"overrides\":[],\"properties\":[{\"default\":0,\"kind\":null,\"name\":\"open_modal\"},{\"default\":0,\"kind\":null,\"name\":\"close_modal\"}]}],\"roots\":{\"references\":[{\"attributes\":{\"fill_alpha\":{\"value\":0.2},\"fill_color\":{\"value\":\"#30a2da\"},\"hatch_alpha\":{\"value\":0.2},\"hatch_color\":{\"value\":\"#30a2da\"},\"line_alpha\":{\"value\":0.2},\"line_color\":{\"value\":\"#30a2da\"},\"size\":{\"value\":5.477225575051661},\"x\":{\"field\":\"bmi\"},\"y\":{\"field\":\"charges\"}},\"id\":\"2082\",\"type\":\"Scatter\"},{\"attributes\":{},\"id\":\"2050\",\"type\":\"BasicTicker\"},{\"attributes\":{\"axis\":{\"id\":\"2049\"},\"coordinates\":null,\"grid_line_color\":null,\"group\":null,\"ticker\":null},\"id\":\"2052\",\"type\":\"Grid\"},{\"attributes\":{\"fill_color\":{\"value\":\"#30a2da\"},\"hatch_color\":{\"value\":\"#30a2da\"},\"line_color\":{\"value\":\"#30a2da\"},\"size\":{\"value\":5.477225575051661},\"x\":{\"field\":\"bmi\"},\"y\":{\"field\":\"charges\"}},\"id\":\"2080\",\"type\":\"Scatter\"},{\"attributes\":{},\"id\":\"2078\",\"type\":\"Selection\"},{\"attributes\":{\"axis_label\":\"charges\",\"coordinates\":null,\"formatter\":{\"id\":\"2075\"},\"group\":null,\"major_label_policy\":{\"id\":\"2076\"},\"ticker\":{\"id\":\"2054\"}},\"id\":\"2053\",\"type\":\"LinearAxis\"},{\"attributes\":{\"source\":{\"id\":\"2077\"}},\"id\":\"2084\",\"type\":\"CDSView\"},{\"attributes\":{},\"id\":\"2108\",\"type\":\"UnionRenderers\"},{\"attributes\":{\"axis\":{\"id\":\"2053\"},\"coordinates\":null,\"dimension\":1,\"grid_line_color\":null,\"group\":null,\"ticker\":null},\"id\":\"2056\",\"type\":\"Grid\"},{\"attributes\":{\"angle\":{\"value\":0.0},\"fill_alpha\":{\"value\":1.0},\"fill_color\":{\"value\":\"#30a2da\"},\"hatch_alpha\":{\"value\":1.0},\"hatch_color\":{\"value\":\"#30a2da\"},\"hatch_scale\":{\"value\":12.0},\"hatch_weight\":{\"value\":1.0},\"line_alpha\":{\"value\":1.0},\"line_cap\":{\"value\":\"butt\"},\"line_color\":{\"value\":\"#30a2da\"},\"line_dash\":{\"value\":[]},\"line_dash_offset\":{\"value\":0},\"line_join\":{\"value\":\"bevel\"},\"line_width\":{\"value\":1},\"marker\":{\"value\":\"circle\"},\"size\":{\"value\":5.477225575051661},\"x\":{\"field\":\"bmi\"},\"y\":{\"field\":\"charges\"}},\"id\":\"2085\",\"type\":\"Scatter\"},{\"attributes\":{},\"id\":\"2054\",\"type\":\"BasicTicker\"},{\"attributes\":{},\"id\":\"2059\",\"type\":\"WheelZoomTool\"},{\"attributes\":{},\"id\":\"2057\",\"type\":\"SaveTool\"},{\"attributes\":{},\"id\":\"2045\",\"type\":\"LinearScale\"},{\"attributes\":{\"overlay\":{\"id\":\"2062\"}},\"id\":\"2060\",\"type\":\"BoxZoomTool\"},{\"attributes\":{},\"id\":\"2061\",\"type\":\"ResetTool\"},{\"attributes\":{},\"id\":\"2073\",\"type\":\"AllLabels\"},{\"attributes\":{\"line_color\":\"red\",\"line_width\":2,\"x\":{\"field\":\"bmi\"},\"y\":{\"field\":\"costs_predicted\"}},\"id\":\"2089\",\"type\":\"Line\"},{\"attributes\":{\"line_alpha\":0.2,\"line_color\":\"red\",\"line_width\":2,\"x\":{\"field\":\"bmi\"},\"y\":{\"field\":\"costs_predicted\"}},\"id\":\"2091\",\"type\":\"Line\"},{\"attributes\":{\"bottom_units\":\"screen\",\"coordinates\":null,\"fill_alpha\":0.5,\"fill_color\":\"lightgrey\",\"group\":null,\"left_units\":\"screen\",\"level\":\"overlay\",\"line_alpha\":1.0,\"line_color\":\"black\",\"line_dash\":[4,4],\"line_width\":2,\"right_units\":\"screen\",\"syncable\":false,\"top_units\":\"screen\"},\"id\":\"2062\",\"type\":\"BoxAnnotation\"},{\"attributes\":{\"line_alpha\":0.1,\"line_color\":\"red\",\"line_width\":2,\"x\":{\"field\":\"bmi\"},\"y\":{\"field\":\"costs_predicted\"}},\"id\":\"2090\",\"type\":\"Line\"},{\"attributes\":{\"coordinates\":null,\"data_source\":{\"id\":\"2086\"},\"glyph\":{\"id\":\"2089\"},\"group\":null,\"hover_glyph\":null,\"muted_glyph\":{\"id\":\"2091\"},\"nonselection_glyph\":{\"id\":\"2090\"},\"selection_glyph\":{\"id\":\"2094\"},\"view\":{\"id\":\"2093\"}},\"id\":\"2092\",\"type\":\"GlyphRenderer\"},{\"attributes\":{\"callback\":null,\"renderers\":[{\"id\":\"2083\"}],\"tags\":[\"hv_created\"],\"tooltips\":[[\"bmi\",\"@{bmi}\"],[\"charges\",\"@{charges}\"]]},\"id\":\"2038\",\"type\":\"HoverTool\"},{\"attributes\":{\"line_color\":\"red\",\"line_width\":2,\"x\":{\"field\":\"bmi\"},\"y\":{\"field\":\"costs_predicted\"}},\"id\":\"2094\",\"type\":\"Line\"},{\"attributes\":{\"end\":50,\"reset_end\":50,\"reset_start\":15,\"start\":15,\"tags\":[[[\"bmi\",\"bmi\",null]]]},\"id\":\"2036\",\"type\":\"Range1d\"},{\"attributes\":{\"below\":[{\"id\":\"2049\"}],\"center\":[{\"id\":\"2052\"},{\"id\":\"2056\"}],\"height\":300,\"left\":[{\"id\":\"2053\"}],\"margin\":[5,5,5,5],\"min_border_bottom\":10,\"min_border_left\":10,\"min_border_right\":10,\"min_border_top\":10,\"renderers\":[{\"id\":\"2083\"},{\"id\":\"2092\"}],\"sizing_mode\":\"fixed\",\"title\":{\"id\":\"2041\"},\"toolbar\":{\"id\":\"2063\"},\"width\":700,\"x_range\":{\"id\":\"2036\"},\"x_scale\":{\"id\":\"2045\"},\"y_range\":{\"id\":\"2037\"},\"y_scale\":{\"id\":\"2047\"}},\"id\":\"2040\",\"subtype\":\"Figure\",\"type\":\"Plot\"},{\"attributes\":{},\"id\":\"2087\",\"type\":\"Selection\"},{\"attributes\":{\"end\":100000,\"reset_end\":100000,\"reset_start\":10000,\"start\":10000,\"tags\":[[[\"charges\",\"charges\",null]]]},\"id\":\"2037\",\"type\":\"Range1d\"},{\"attributes\":{\"data\":{\"bmi\":{\"__ndarray__\":\"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\",\"dtype\":\"float64\",\"order\":\"little\",\"shape\":[215]},\"costs_predicted\":{\"__ndarray__\":\"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\",\"dtype\":\"float64\",\"order\":\"little\",\"shape\":[215]}},\"selected\":{\"id\":\"2087\"},\"selection_policy\":{\"id\":\"2108\"}},\"id\":\"2086\",\"type\":\"ColumnDataSource\"},{\"attributes\":{},\"id\":\"2072\",\"type\":\"BasicTickFormatter\"},{\"attributes\":{\"source\":{\"id\":\"2086\"}},\"id\":\"2093\",\"type\":\"CDSView\"},{\"attributes\":{\"callback\":null,\"renderers\":[{\"id\":\"2092\"}],\"tags\":[\"hv_created\"],\"tooltips\":[[\"bmi\",\"@{bmi}\"],[\"costs_predicted\",\"@{costs_predicted}\"]]},\"id\":\"2039\",\"type\":\"HoverTool\"},{\"attributes\":{\"children\":[{\"id\":\"2040\"}],\"height\":300,\"margin\":[0,0,0,0],\"name\":\"Row02387\",\"sizing_mode\":\"fixed\",\"tags\":[\"embedded\"],\"width\":700},\"id\":\"2035\",\"type\":\"Row\"},{\"attributes\":{\"data\":{\"bmi\":{\"__ndarray__\":\"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\",\"dtype\":\"float64\",\"order\":\"little\",\"shape\":[215]},\"charges\":{\"__ndarray__\":\"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\",\"dtype\":\"float64\",\"order\":\"little\",\"shape\":[215]}},\"selected\":{\"id\":\"2078\"},\"selection_policy\":{\"id\":\"2106\"}},\"id\":\"2077\",\"type\":\"ColumnDataSource\"},{\"attributes\":{},\"id\":\"2058\",\"type\":\"PanTool\"},{\"attributes\":{},\"id\":\"2076\",\"type\":\"AllLabels\"},{\"attributes\":{\"coordinates\":null,\"group\":null,\"text\":\"Charges per bmi body mass index score\",\"text_color\":\"black\",\"text_font_size\":\"12pt\"},\"id\":\"2041\",\"type\":\"Title\"},{\"attributes\":{\"fill_alpha\":{\"value\":0.1},\"fill_color\":{\"value\":\"#30a2da\"},\"hatch_alpha\":{\"value\":0.1},\"hatch_color\":{\"value\":\"#30a2da\"},\"line_alpha\":{\"value\":0.1},\"line_color\":{\"value\":\"#30a2da\"},\"size\":{\"value\":5.477225575051661},\"x\":{\"field\":\"bmi\"},\"y\":{\"field\":\"charges\"}},\"id\":\"2081\",\"type\":\"Scatter\"},{\"attributes\":{},\"id\":\"2075\",\"type\":\"BasicTickFormatter\"},{\"attributes\":{\"coordinates\":null,\"data_source\":{\"id\":\"2077\"},\"glyph\":{\"id\":\"2080\"},\"group\":null,\"hover_glyph\":null,\"muted_glyph\":{\"id\":\"2082\"},\"nonselection_glyph\":{\"id\":\"2081\"},\"selection_glyph\":{\"id\":\"2085\"},\"view\":{\"id\":\"2084\"}},\"id\":\"2083\",\"type\":\"GlyphRenderer\"},{\"attributes\":{\"axis_label\":\"bmi\",\"coordinates\":null,\"formatter\":{\"id\":\"2072\"},\"group\":null,\"major_label_policy\":{\"id\":\"2073\"},\"ticker\":{\"id\":\"2050\"}},\"id\":\"2049\",\"type\":\"LinearAxis\"},{\"attributes\":{\"active_drag\":{\"id\":\"2058\"},\"active_scroll\":{\"id\":\"2059\"},\"tools\":[{\"id\":\"2038\"},{\"id\":\"2039\"},{\"id\":\"2057\"},{\"id\":\"2058\"},{\"id\":\"2059\"},{\"id\":\"2060\"},{\"id\":\"2061\"}]},\"id\":\"2063\",\"type\":\"Toolbar\"},{\"attributes\":{},\"id\":\"2106\",\"type\":\"UnionRenderers\"},{\"attributes\":{},\"id\":\"2047\",\"type\":\"LinearScale\"}],\"root_ids\":[\"2035\"]},\"title\":\"Bokeh Application\",\"version\":\"2.4.3\"}};\n",
       "    var render_items = [{\"docid\":\"b11d581a-e449-4e3e-95b9-ce8af7943761\",\"root_ids\":[\"2035\"],\"roots\":{\"2035\":\"163b7dc3-8dc0-47c9-944e-d6ee1d7ce8e4\"}}];\n",
       "    root.Bokeh.embed.embed_items_notebook(docs_json, render_items);\n",
       "    for (const render_item of render_items) {\n",
       "      for (const root_id of render_item.root_ids) {\n",
       "\tconst id_el = document.getElementById(root_id)\n",
       "\tif (id_el.children.length && (id_el.children[0].className === 'bk-root')) {\n",
       "\t  const root_el = id_el.children[0]\n",
       "\t  root_el.id = root_el.id + '-rendered'\n",
       "\t}\n",
       "      }\n",
       "    }\n",
       "  }\n",
       "  if (root.Bokeh !== undefined && root.Bokeh.Panel !== undefined) {\n",
       "    embed_document(root);\n",
       "  } else {\n",
       "    var attempts = 0;\n",
       "    var timer = setInterval(function(root) {\n",
       "      if (root.Bokeh !== undefined && root.Bokeh.Panel !== undefined) {\n",
       "        clearInterval(timer);\n",
       "        embed_document(root);\n",
       "      } else if (document.readyState == \"complete\") {\n",
       "        attempts++;\n",
       "        if (attempts > 200) {\n",
       "          clearInterval(timer);\n",
       "          console.log(\"Bokeh: ERROR: Unable to run BokehJS code because BokehJS library is missing\");\n",
       "        }\n",
       "      }\n",
       "    }, 25, root)\n",
       "  }\n",
       "})(window);</script>"
      ],
      "text/plain": [
       ":Overlay\n",
       "   .Scatter.I :Scatter   [bmi]   (charges)\n",
       "   .Curve.I   :Curve   [bmi]   (costs_predicted)"
      ]
     },
     "execution_count": 129,
     "metadata": {
      "application/vnd.holoviews_exec.v0+json": {
       "id": "2035"
      }
     },
     "output_type": "execute_result"
    }
   ],
   "source": [
    "# Superpose the original data and the best fit line\n",
    "bmi_plot * best_fit_line"
   ]
  },
  {
   "cell_type": "markdown",
   "metadata": {},
   "source": [
    "Looks like a moderate growth... Probably be an ok r squred."
   ]
  },
  {
   "cell_type": "code",
   "execution_count": null,
   "metadata": {},
   "outputs": [],
   "source": [
    "#Next make the manual predictions"
   ]
  },
  {
   "cell_type": "code",
   "execution_count": 131,
   "metadata": {},
   "outputs": [
    {
     "name": "stdout",
     "output_type": "stream",
     "text": [
      "Model's formula: y = -11614.362319344677 + 1707.99430618145 * 100\n",
      "Predicted costs of the 50 year old smoker group: $48165.44\n"
     ]
    }
   ],
   "source": [
    "# Display the formula to predi\n",
    "print(f\"Model's formula: y = {model.intercept_} + {model.coef_[0]} * 100\")\n",
    "\n",
    "# Predict the sales with 100 ads\n",
    "y_35 = model.intercept_ + model.coef_[0] * 35\n",
    "\n",
    "# Display the prediction\n",
    "print(f\"Predicted costs of the 50 year old smoker group: ${y_35:.2f}\")"
   ]
  },
  {
   "cell_type": "code",
   "execution_count": 135,
   "metadata": {},
   "outputs": [
    {
     "data": {
      "text/plain": [
       "array([[10],\n",
       "       [20],\n",
       "       [30],\n",
       "       [40],\n",
       "       [50]])"
      ]
     },
     "execution_count": 135,
     "metadata": {},
     "output_type": "execute_result"
    }
   ],
   "source": [
    "# Create an array to predict smoker costs for bmi in ten year increments\n",
    "X_costs = np.array([ 10, 20, 30, 40, 50])\n",
    "\n",
    "# Format the array as a one-column array\n",
    "X_costs = X_costs.reshape(-1,1)\n",
    "\n",
    "# Display sample data\n",
    "X_costs"
   ]
  },
  {
   "cell_type": "code",
   "execution_count": 136,
   "metadata": {},
   "outputs": [],
   "source": [
    "# Predict costs\n",
    "predicted_costs = model.predict(X_costs)"
   ]
  },
  {
   "cell_type": "code",
   "execution_count": 137,
   "metadata": {},
   "outputs": [
    {
     "data": {
      "text/html": [
       "<div>\n",
       "<style scoped>\n",
       "    .dataframe tbody tr th:only-of-type {\n",
       "        vertical-align: middle;\n",
       "    }\n",
       "\n",
       "    .dataframe tbody tr th {\n",
       "        vertical-align: top;\n",
       "    }\n",
       "\n",
       "    .dataframe thead th {\n",
       "        text-align: right;\n",
       "    }\n",
       "</style>\n",
       "<table border=\"1\" class=\"dataframe\">\n",
       "  <thead>\n",
       "    <tr style=\"text-align: right;\">\n",
       "      <th></th>\n",
       "      <th>bmi</th>\n",
       "      <th>predicted_costs</th>\n",
       "    </tr>\n",
       "  </thead>\n",
       "  <tbody>\n",
       "    <tr>\n",
       "      <th>0</th>\n",
       "      <td>10</td>\n",
       "      <td>5465.580742</td>\n",
       "    </tr>\n",
       "    <tr>\n",
       "      <th>1</th>\n",
       "      <td>20</td>\n",
       "      <td>22545.523804</td>\n",
       "    </tr>\n",
       "    <tr>\n",
       "      <th>2</th>\n",
       "      <td>30</td>\n",
       "      <td>39625.466866</td>\n",
       "    </tr>\n",
       "    <tr>\n",
       "      <th>3</th>\n",
       "      <td>40</td>\n",
       "      <td>56705.409928</td>\n",
       "    </tr>\n",
       "    <tr>\n",
       "      <th>4</th>\n",
       "      <td>50</td>\n",
       "      <td>73785.352990</td>\n",
       "    </tr>\n",
       "  </tbody>\n",
       "</table>\n",
       "</div>"
      ],
      "text/plain": [
       "   bmi  predicted_costs\n",
       "0   10      5465.580742\n",
       "1   20     22545.523804\n",
       "2   30     39625.466866\n",
       "3   40     56705.409928\n",
       "4   50     73785.352990"
      ]
     },
     "execution_count": 137,
     "metadata": {},
     "output_type": "execute_result"
    }
   ],
   "source": [
    "# Create a DataFrame for the predicted costs\n",
    "df_predicted_costs = pd.DataFrame(\n",
    "    {\n",
    "        \"bmi\": X_costs.reshape(1, -1)[0],\n",
    "        \"predicted_costs\": predicted_costs\n",
    "    }\n",
    ")\n",
    "\n",
    "# Display data\n",
    "df_predicted_costs"
   ]
  },
  {
   "cell_type": "markdown",
   "metadata": {},
   "source": [
    "Evaluate the Linear Regression Model"
   ]
  },
  {
   "cell_type": "code",
   "execution_count": 138,
   "metadata": {},
   "outputs": [
    {
     "name": "stdout",
     "output_type": "stream",
     "text": [
      "The score is 0.2599295498137477.\n",
      "The r2 is 0.2599295498137477.\n",
      "The mean squared error is 362016479.73070335.\n",
      "The root mean squared error is 19026.730663219663.\n",
      "The standard deviation is 22117.07234588049.\n"
     ]
    }
   ],
   "source": [
    "# Compute the metrics for the linear regression model\n",
    "score = model.score(X, y, sample_weight=None)\n",
    "r2 = r2_score(y, predicted_y_values)\n",
    "mse = mean_squared_error(y, predicted_y_values)\n",
    "rmse = np.sqrt(mse)\n",
    "std = np.std(y)\n",
    "\n",
    "# Print releveant metrics.\n",
    "print(f\"The score is {score}.\")\n",
    "print(f\"The r2 is {r2}.\")\n",
    "print(f\"The mean squared error is {mse}.\")\n",
    "print(f\"The root mean squared error is {rmse}.\")\n",
    "print(f\"The standard deviation is {std}.\")"
   ]
  },
  {
   "cell_type": "markdown",
   "metadata": {},
   "source": [
    "The r squared is less than .80 which means a bad model and can not use this system to predict future insurance costs for smokers.\n",
    "In other words smokers bmi and insurance costs do not have any significant relationship per this model.  While it makes sense the costs would be lower for a smoker with a small Body Mass Index or BMI this model simply does not have the mathematical strength to reject a null hypothesis."
   ]
  }
 ],
 "metadata": {
  "kernelspec": {
   "display_name": "dev",
   "language": "python",
   "name": "python3"
  },
  "language_info": {
   "codemirror_mode": {
    "name": "ipython",
    "version": 3
   },
   "file_extension": ".py",
   "mimetype": "text/x-python",
   "name": "python",
   "nbconvert_exporter": "python",
   "pygments_lexer": "ipython3",
   "version": "3.10.10"
  }
 },
 "nbformat": 4,
 "nbformat_minor": 4
}
